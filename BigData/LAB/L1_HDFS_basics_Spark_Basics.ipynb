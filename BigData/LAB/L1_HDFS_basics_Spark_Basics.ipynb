{
 "cells": [
  {
   "cell_type": "markdown",
   "metadata": {},
   "source": [
    "HDFS - kopiowanie danych"
   ]
  },
  {
   "cell_type": "code",
   "execution_count": 1,
   "metadata": {},
   "outputs": [
    {
     "name": "stdout",
     "output_type": "stream",
     "text": [
      "lksiezak\n"
     ]
    }
   ],
   "source": [
    "import os \n",
    "user_name = os.environ.get('USER')\n",
    "print (user_name)"
   ]
  },
  {
   "cell_type": "code",
   "execution_count": 15,
   "metadata": {},
   "outputs": [
    {
     "name": "stdout",
     "output_type": "stream",
     "text": [
      "Sample\tChromosome\tStart\tEnd\tNum_Probes\tSegment_Mean\n",
      "TCGA-A2-A0EU-10A-01D-A060-02\t1\t10209\t2583075\tNA\t-0.210121164888764\n",
      "TCGA-A2-A0EU-10A-01D-A060-02\t1\t2583076\t249240606\tNA\t-0.101789555120838\n",
      "TCGA-A2-A0EU-10A-01D-A060-02\t2\t10002\t243189359\tNA\t-0.337963741969504\n",
      "TCGA-A2-A0EU-10A-01D-A060-02\t3\t60175\t162511435\tNA\t-0.0850647472883194\n",
      "TCGA-A2-A0EU-10A-01D-A060-02\t3\t162511436\t162626067\tNA\t0.42309157125509\n",
      "TCGA-A2-A0EU-10A-01D-A060-02\t3\t162626068\t197962416\tNA\t-0.0962225847981023\n",
      "TCGA-A2-A0EU-10A-01D-A060-02\t4\t69223\t191014397\tNA\t-0.0713350286479217\n",
      "TCGA-A2-A0EU-10A-01D-A060-02\t5\t11770\t180905246\tNA\t0.176064461471459\n",
      "TCGA-A2-A0EU-10A-01D-A060-02\t6\t63815\t171050932\tNA\t-0.0895478602860139\n",
      "5299 brca.txt\n"
     ]
    }
   ],
   "source": [
    "%%bash\n",
    "cd ~\n",
    "mkdir -p data\n",
    "cd data\n",
    "cp /data/local/datascience/data/brca.txt .\n",
    "head brca.txt\n",
    "wc -l brca.txt"
   ]
  },
  {
   "cell_type": "markdown",
   "metadata": {},
   "source": [
    "ls => hdfs dfs -ls\n",
    "cp => hdfs dfs -cp\n",
    "rm => hdfs dfs -rm"
   ]
  },
  {
   "cell_type": "code",
   "execution_count": 24,
   "metadata": {},
   "outputs": [
    {
     "name": "stdout",
     "output_type": "stream",
     "text": [
      "Found 2 items\n",
      "-rw-r--r--   2 lksiezak bdg-ds-stud     375612 2020-01-11 09:49 brca.txt\n",
      "drwxr-xr-x   - lksiezak bdg-ds-stud          0 2020-01-11 09:51 data\n"
     ]
    }
   ],
   "source": [
    "%%bash\n",
    "hdfs dfs -ls\n",
    "\n",
    "hdfs dfs -mkdir -p hdfs:///user/${USER}/data\n",
    "hdfs dfs -put -f brca.txt hdfs:///user/${USER}/data"
   ]
  },
  {
   "cell_type": "code",
   "execution_count": 23,
   "metadata": {},
   "outputs": [
    {
     "name": "stdout",
     "output_type": "stream",
     "text": [
      "Found 1 items\n",
      "-rw-r--r--   2 lksiezak bdg-ds-stud     375612 2020-01-11 09:51 hdfs:///user/lksiezak/data/brca.txt\n"
     ]
    }
   ],
   "source": [
    "%%bash\n",
    "hdfs dfs -ls hdfs:///user/${USER}/data"
   ]
  },
  {
   "cell_type": "code",
   "execution_count": 25,
   "metadata": {},
   "outputs": [
    {
     "name": "stdout",
     "output_type": "stream",
     "text": [
      "Sample\tChromosome\tStart\tEnd\tNum_Probes\tSegment_Mean\r\n",
      "TCGA-A2-A0EU-10A-01D-A060-02\t1\t10209\t2583075\tNA\t-0.210121164888764\r\n",
      "TCGA-A2-A0EU-10A-01D-A060-02\t1\t2583076\t249240606\tNA\t-0.101789555120838\r\n",
      "TCGA-A2-A0EU-10A-01D-A060-02\t2\t10002\t243189359\tNA\t-0.337963741969504\r\n",
      "TCGA-A2-A0EU-10A-01D-A060-02\t3\t60175\t162511435\tNA\t-0.0850647472883194\r\n",
      "TCGA-A2-A0EU-10A-01D-A060-02\t3\t162511436\t162626067\tNA\t0.42309157125509\r\n",
      "TCGA-A2-A0EU-10A-01D-A060-02\t3\t162626068\t197962416\tNA\t-0.0962225847981023\r\n",
      "TCGA-A2-A0EU-10A-01D-A060-02\t4\t69223\t191014397\tNA\t-0.0713350286479217\r\n",
      "TCGA-A2-A0EU-10A-01D-A060-02\t5\t11770\t180905246\tNA\t0.176064461471459\r\n",
      "TCGA-A2-A0EU-10A-01D-A060-02\t6\t63815\t171050932\tNA\t-0.0895478602860139\r\n",
      "cat: Unable to write to output stream.\r\n"
     ]
    }
   ],
   "source": [
    "!hdfs dfs -cat /user/${USER}/data/brca.txt | head"
   ]
  },
  {
   "cell_type": "code",
   "execution_count": 26,
   "metadata": {},
   "outputs": [
    {
     "name": "stdout",
     "output_type": "stream",
     "text": [
      "366.8 K  733.6 K  /user/lksiezak/data/brca.txt\r\n"
     ]
    }
   ],
   "source": [
    "!hdfs dfs -du -h /user/${USER}/data/brca.txt"
   ]
  },
  {
   "cell_type": "markdown",
   "metadata": {},
   "source": [
    "^ Powyzszy wynik wskazuje że plik jest trzymany w dwóch kopiach"
   ]
  },
  {
   "cell_type": "code",
   "execution_count": 27,
   "metadata": {},
   "outputs": [],
   "source": [
    "!hdfs dfs -mkdir -p /user/${USER}/data/external "
   ]
  },
  {
   "cell_type": "code",
   "execution_count": 29,
   "metadata": {},
   "outputs": [
    {
     "name": "stdout",
     "output_type": "stream",
     "text": [
      "cp: `/user/lksiezak/data/external/brca.txt': File exists\r\n"
     ]
    }
   ],
   "source": [
    "!hdfs dfs -cp -f /user/${USER}/data/brca.txt /user/${USER}/data/external/brca.txt "
   ]
  },
  {
   "cell_type": "code",
   "execution_count": 31,
   "metadata": {},
   "outputs": [
    {
     "name": "stdout",
     "output_type": "stream",
     "text": [
      "-rw-r--r--   2 lksiezak bdg-ds-stud     375612 2020-01-11 09:56 /user/lksiezak/data/brca.txt\r\n",
      "drwxr-xr-x   - lksiezak bdg-ds-stud          0 2020-01-11 10:09 /user/lksiezak/data/external\r\n",
      "-rw-r--r--   2 lksiezak bdg-ds-stud     375612 2020-01-11 10:09 /user/lksiezak/data/external/brca.txt\r\n"
     ]
    }
   ],
   "source": [
    "!hdfs dfs -ls -R /user/${USER}/data"
   ]
  },
  {
   "cell_type": "markdown",
   "metadata": {},
   "source": [
    "Usunięcie powoduje tak naprawdę przeniesienie pliku do folderu Trash: hdfs://cdh01.cl.ii.pw.edu.pl:8020/user/lksiezak/.Trash/Current/user/lksiezak/data/brca.txt \n",
    "Tam będzie czekał na automatyczne usunięcie przez 30 dni "
   ]
  },
  {
   "cell_type": "code",
   "execution_count": 32,
   "metadata": {},
   "outputs": [
    {
     "name": "stdout",
     "output_type": "stream",
     "text": [
      "20/01/11 10:12:00 INFO fs.TrashPolicyDefault: Moved: 'hdfs://cdh01.cl.ii.pw.edu.pl:8020/user/lksiezak/data/brca.txt' to trash at: hdfs://cdh01.cl.ii.pw.edu.pl:8020/user/lksiezak/.Trash/Current/user/lksiezak/data/brca.txt\r\n"
     ]
    }
   ],
   "source": [
    "! hdfs dfs -rm /user/${USER}/data/brca.txt"
   ]
  },
  {
   "cell_type": "code",
   "execution_count": 34,
   "metadata": {},
   "outputs": [
    {
     "name": "stdout",
     "output_type": "stream",
     "text": [
      "Found 1 items\r\n",
      "drwxr-xr-x   - lksiezak bdg-ds-stud          0 2020-01-11 10:09 hdfs:///user/lksiezak/data/external\r\n"
     ]
    }
   ],
   "source": [
    "!hdfs dfs -ls hdfs:///user/${USER}/data"
   ]
  },
  {
   "cell_type": "code",
   "execution_count": null,
   "metadata": {},
   "outputs": [],
   "source": [
    "Pobranie pliku z hdfsa do systemu lokalnego"
   ]
  },
  {
   "cell_type": "code",
   "execution_count": 35,
   "metadata": {},
   "outputs": [],
   "source": [
    "!hdfs dfs -get /user/${USER}/data/external/brca.txt ~"
   ]
  },
  {
   "cell_type": "code",
   "execution_count": 37,
   "metadata": {},
   "outputs": [
    {
     "name": "stdout",
     "output_type": "stream",
     "text": [
      "Connecting to namenode via http://cdh01.cl.ii.pw.edu.pl:50070/fsck?ugi=lksiezak&path=%2Fuser%2Flksiezak%2Fdata%2Fexternal%2Fbrca.txt\n",
      "FSCK started by lksiezak (auth:KERBEROS_SSL) from /192.168.157.200 for path /user/lksiezak/data/external/brca.txt at Sat Jan 11 10:17:17 CET 2020\n",
      "\n",
      "Status: HEALTHY\n",
      " Number of data-nodes:\t4\n",
      " Number of racks:\t\t1\n",
      " Total dirs:\t\t\t0\n",
      " Total symlinks:\t\t0\n",
      "\n",
      "Replicated Blocks:\n",
      " Total size:\t375612 B\n",
      " Total files:\t1\n",
      " Total blocks (validated):\t1 (avg. block size 375612 B)\n",
      " Minimally replicated blocks:\t1 (100.0 %)\n",
      " Over-replicated blocks:\t0 (0.0 %)\n",
      " Under-replicated blocks:\t0 (0.0 %)\n",
      " Mis-replicated blocks:\t\t0 (0.0 %)\n",
      " Default replication factor:\t2\n",
      " Average block replication:\t2.0\n",
      " Missing blocks:\t\t0\n",
      " Corrupt blocks:\t\t0\n",
      " Missing replicas:\t\t0 (0.0 %)\n",
      "\n",
      "Erasure Coded Block Groups:\n",
      " Total size:\t0 B\n",
      " Total files:\t0\n",
      " Total block groups (validated):\t0\n",
      " Minimally erasure-coded block groups:\t0\n",
      " Over-erasure-coded block groups:\t0\n",
      " Under-erasure-coded block groups:\t0\n",
      " Unsatisfactory placement block groups:\t0\n",
      " Average block group size:\t0.0\n",
      " Missing block groups:\t\t0\n",
      " Corrupt block groups:\t\t0\n",
      " Missing internal blocks:\t0\n",
      "FSCK ended at Sat Jan 11 10:17:17 CET 2020 in 2 milliseconds\n",
      "\n",
      "\n",
      "The filesystem under path '/user/lksiezak/data/external/brca.txt' is HEALTHY\n"
     ]
    }
   ],
   "source": [
    "!hdfs fsck /user/${USER}/data/external/brca.txt"
   ]
  },
  {
   "cell_type": "markdown",
   "metadata": {},
   "source": [
    "# Spark SQL"
   ]
  },
  {
   "cell_type": "code",
   "execution_count": 38,
   "metadata": {},
   "outputs": [
    {
     "data": {
      "text/plain": [
       "4457"
      ]
     },
     "execution_count": 38,
     "metadata": {},
     "output_type": "execute_result"
    }
   ],
   "source": [
    "import random\n",
    "port_name = random.randint(4000, 4999)\n",
    "port_name"
   ]
  },
  {
   "cell_type": "markdown",
   "metadata": {},
   "source": [
    "Tworzymy sesję sparka:"
   ]
  },
  {
   "cell_type": "code",
   "execution_count": 40,
   "metadata": {},
   "outputs": [],
   "source": [
    "from pyspark.sql import SparkSession\n",
    "\n",
    "spark = SparkSession \\\n",
    ".builder \\\n",
    ".master('yarn-client') \\\n",
    ".config('spark.driver.memory', '1g') \\\n",
    ".config('spark.executor.memory', '1g') \\\n",
    ".config('spark.ui.port', port_name) \\\n",
    ".appName(f'ds_{user_name}') \\\n",
    ".getOrCreate()\n"
   ]
  },
  {
   "cell_type": "code",
   "execution_count": 42,
   "metadata": {},
   "outputs": [
    {
     "data": {
      "text/plain": [
       "'/user/lksiezak/data/external/brca.txt'"
      ]
     },
     "execution_count": 42,
     "metadata": {},
     "output_type": "execute_result"
    }
   ],
   "source": [
    "path = f'/user/{user_name}/data/external/brca.txt'\n",
    "path"
   ]
  },
  {
   "cell_type": "code",
   "execution_count": 43,
   "metadata": {},
   "outputs": [
    {
     "name": "stdout",
     "output_type": "stream",
     "text": [
      "+----------------+\n",
      "|    databaseName|\n",
      "+----------------+\n",
      "|        alewalsk|\n",
      "|          am0022|\n",
      "|        arutkows|\n",
      "|        arydzew1|\n",
      "|          as0030|\n",
      "|           awisz|\n",
      "|   bdgz_platform|\n",
      "|          bh0012|\n",
      "|        bkruszy1|\n",
      "|     datascience|\n",
      "|       db_po0023|\n",
      "|          dborys|\n",
      "|         default|\n",
      "|          dk0019|\n",
      "|         dkl0017|\n",
      "|          dl0021|\n",
      "|ds_lab_testuser1|\n",
      "|ds_lab_testuser2|\n",
      "|          ec0004|\n",
      "|  edugen_sequila|\n",
      "+----------------+\n",
      "only showing top 20 rows\n",
      "\n"
     ]
    }
   ],
   "source": [
    "spark.sql('show databases').show()"
   ]
  },
  {
   "cell_type": "code",
   "execution_count": 48,
   "metadata": {},
   "outputs": [
    {
     "data": {
      "text/plain": [
       "DataFrame[]"
      ]
     },
     "execution_count": 48,
     "metadata": {},
     "output_type": "execute_result"
    }
   ],
   "source": [
    "spark.sql(f'DROP DATABASE {user_name} CASCADE')\n",
    "spark.sql(f\"CREATE DATABASE {user_name} LOCATION '/edugen/db/{user_name}'\")"
   ]
  },
  {
   "cell_type": "code",
   "execution_count": 49,
   "metadata": {},
   "outputs": [
    {
     "data": {
      "text/plain": [
       "DataFrame[]"
      ]
     },
     "execution_count": 49,
     "metadata": {},
     "output_type": "execute_result"
    }
   ],
   "source": [
    "spark.sql(f'USE {user_name}')"
   ]
  },
  {
   "cell_type": "code",
   "execution_count": 50,
   "metadata": {},
   "outputs": [
    {
     "data": {
      "text/plain": [
       "DataFrame[]"
      ]
     },
     "execution_count": 50,
     "metadata": {},
     "output_type": "execute_result"
    }
   ],
   "source": [
    "table_name = 'brac'\n",
    "spark.sql(f'CREATE TABLE IF NOT EXISTS {table_name} \\\n",
    "            USING  csv \\\n",
    "            OPTIONS (DELIMITER \"\\t\", HEADER true, INFERSCHEMA true) \\\n",
    "            LOCATION  \"{path}\"')"
   ]
  },
  {
   "cell_type": "code",
   "execution_count": 51,
   "metadata": {},
   "outputs": [
    {
     "name": "stdout",
     "output_type": "stream",
     "text": [
      "+--------+---------+-----------+\n",
      "|database|tableName|isTemporary|\n",
      "+--------+---------+-----------+\n",
      "|lksiezak|     brac|      false|\n",
      "+--------+---------+-----------+\n",
      "\n"
     ]
    }
   ],
   "source": [
    "spark.sql(\"SHOW TABLES\").show()"
   ]
  },
  {
   "cell_type": "code",
   "execution_count": 54,
   "metadata": {},
   "outputs": [
    {
     "name": "stdout",
     "output_type": "stream",
     "text": [
      "+--------------------+--------------------+-------+\n",
      "|            col_name|           data_type|comment|\n",
      "+--------------------+--------------------+-------+\n",
      "|              Sample|              string|   null|\n",
      "|          Chromosome|                 int|   null|\n",
      "|               Start|                 int|   null|\n",
      "|                 End|                 int|   null|\n",
      "|          Num_Probes|              string|   null|\n",
      "|        Segment_Mean|              double|   null|\n",
      "|                    |                    |       |\n",
      "|# Detailed Table ...|                    |       |\n",
      "|            Database|            lksiezak|       |\n",
      "|               Table|                brac|       |\n",
      "|               Owner|lksiezak@CL.II.PW...|       |\n",
      "|        Created Time|Sat Jan 11 11:13:...|       |\n",
      "|         Last Access|Thu Jan 01 01:00:...|       |\n",
      "|          Created By|         Spark 2.4.3|       |\n",
      "|                Type|            EXTERNAL|       |\n",
      "|            Provider|                 csv|       |\n",
      "|    Table Properties|[bucketing_versio...|       |\n",
      "|            Location|hdfs://cdh01.cl.i...|       |\n",
      "|       Serde Library|org.apache.hadoop...|       |\n",
      "|         InputFormat|org.apache.hadoop...|       |\n",
      "+--------------------+--------------------+-------+\n",
      "only showing top 20 rows\n",
      "\n"
     ]
    }
   ],
   "source": [
    "spark.sql(f\"DESCRIBE {table_name}\").show()"
   ]
  },
  {
   "cell_type": "code",
   "execution_count": null,
   "metadata": {},
   "outputs": [],
   "source": [
    "spark.sql(f\"DESCRIBE extended {table_name}\").show()"
   ]
  },
  {
   "cell_type": "code",
   "execution_count": 55,
   "metadata": {},
   "outputs": [
    {
     "name": "stdout",
     "output_type": "stream",
     "text": [
      "+--------+\n",
      "|count(1)|\n",
      "+--------+\n",
      "|    5298|\n",
      "+--------+\n",
      "\n"
     ]
    }
   ],
   "source": [
    "spark.sql(f\"SELECT count(*) from {table_name}\").show()"
   ]
  },
  {
   "cell_type": "code",
   "execution_count": 58,
   "metadata": {},
   "outputs": [
    {
     "name": "stdout",
     "output_type": "stream",
     "text": [
      "+----------------------------+----------+---------+---------+----------+-------------------+\n",
      "|Sample                      |Chromosome|Start    |End      |Num_Probes|Segment_Mean       |\n",
      "+----------------------------+----------+---------+---------+----------+-------------------+\n",
      "|TCGA-A2-A0EU-10A-01D-A060-02|1         |10209    |2583075  |NA        |-0.210121164888764 |\n",
      "|TCGA-A2-A0EU-10A-01D-A060-02|1         |2583076  |249240606|NA        |-0.101789555120838 |\n",
      "|TCGA-A2-A0EU-10A-01D-A060-02|2         |10002    |243189359|NA        |-0.337963741969504 |\n",
      "|TCGA-A2-A0EU-10A-01D-A060-02|3         |60175    |162511435|NA        |-0.0850647472883194|\n",
      "|TCGA-A2-A0EU-10A-01D-A060-02|3         |162511436|162626067|NA        |0.42309157125509   |\n",
      "|TCGA-A2-A0EU-10A-01D-A060-02|3         |162626068|197962416|NA        |-0.0962225847981023|\n",
      "|TCGA-A2-A0EU-10A-01D-A060-02|4         |69223    |191014397|NA        |-0.0713350286479217|\n",
      "|TCGA-A2-A0EU-10A-01D-A060-02|5         |11770    |180905246|NA        |0.176064461471459  |\n",
      "|TCGA-A2-A0EU-10A-01D-A060-02|6         |63815    |171050932|NA        |-0.0895478602860139|\n",
      "|TCGA-A2-A0EU-10A-01D-A060-02|7         |10128    |159128640|NA        |-0.0402976850808555|\n",
      "|TCGA-A2-A0EU-10A-01D-A060-02|8         |23380    |1238776  |NA        |-1.29512163093905  |\n",
      "|TCGA-A2-A0EU-10A-01D-A060-02|8         |1238777  |1246507  |NA        |0.484060599726464  |\n",
      "|TCGA-A2-A0EU-10A-01D-A060-02|8         |1246508  |1316313  |NA        |-1.34134440497319  |\n",
      "|TCGA-A2-A0EU-10A-01D-A060-02|8         |1316314  |3129168  |NA        |0.633479182382731  |\n",
      "|TCGA-A2-A0EU-10A-01D-A060-02|8         |3129169  |36339136 |NA        |-1.25800956803346  |\n",
      "|TCGA-A2-A0EU-10A-01D-A060-02|8         |36339137 |39701358 |NA        |0.614107286644963  |\n",
      "|TCGA-A2-A0EU-10A-01D-A060-02|8         |39701359 |40086720 |NA        |0.275345530494848  |\n",
      "|TCGA-A2-A0EU-10A-01D-A060-02|8         |40086721 |48901482 |NA        |0.656347604902809  |\n",
      "|TCGA-A2-A0EU-10A-01D-A060-02|8         |48901483 |48911575 |NA        |-0.693717002645095 |\n",
      "|TCGA-A2-A0EU-10A-01D-A060-02|8         |48911576 |146303846|NA        |0.76122152958433   |\n",
      "+----------------------------+----------+---------+---------+----------+-------------------+\n",
      "only showing top 20 rows\n",
      "\n"
     ]
    }
   ],
   "source": [
    "spark.sql(f\"SELECT * FROM {table_name}\").show(truncate=False)"
   ]
  },
  {
   "cell_type": "markdown",
   "metadata": {},
   "source": [
    "- Wyswietl unikalne nazwy chromosomow \n",
    "- Ile ich jest"
   ]
  },
  {
   "cell_type": "code",
   "execution_count": 64,
   "metadata": {},
   "outputs": [
    {
     "name": "stdout",
     "output_type": "stream",
     "text": [
      "+----------+\n",
      "|Chromosome|\n",
      "+----------+\n",
      "|12        |\n",
      "|22        |\n",
      "|1         |\n",
      "|13        |\n",
      "|6         |\n",
      "|16        |\n",
      "|3         |\n",
      "|20        |\n",
      "|5         |\n",
      "|19        |\n",
      "|15        |\n",
      "|9         |\n",
      "|17        |\n",
      "|4         |\n",
      "|8         |\n",
      "|23        |\n",
      "|7         |\n",
      "|10        |\n",
      "|24        |\n",
      "|21        |\n",
      "+----------+\n",
      "only showing top 20 rows\n",
      "\n"
     ]
    }
   ],
   "source": [
    "spark.sql(f\"SELECT distinct Chromosome FROM {table_name}\").show(truncate=False)"
   ]
  },
  {
   "cell_type": "code",
   "execution_count": 67,
   "metadata": {},
   "outputs": [
    {
     "name": "stdout",
     "output_type": "stream",
     "text": [
      "+--------------------------+\n",
      "|count(DISTINCT Chromosome)|\n",
      "+--------------------------+\n",
      "|24                        |\n",
      "+--------------------------+\n",
      "\n"
     ]
    }
   ],
   "source": [
    "spark.sql(f\"SELECT COUNT(DISTINCT Chromosome) FROM {table_name}\").show(truncate=False)"
   ]
  },
  {
   "cell_type": "code",
   "execution_count": 69,
   "metadata": {},
   "outputs": [
    {
     "name": "stdout",
     "output_type": "stream",
     "text": [
      "+----------------------------+\n",
      "|Sample                      |\n",
      "+----------------------------+\n",
      "|TCGA-BH-A0H7-10A-01D-A060-02|\n",
      "|TCGA-A2-A0EU-10A-01D-A060-02|\n",
      "|TCGA-AO-A0JL-01A-11D-A060-02|\n",
      "|TCGA-AO-A0JF-10A-01D-A060-02|\n",
      "|TCGA-AR-A0TU-01A-31D-A106-02|\n",
      "|TCGA-BH-A0BM-01A-11D-A060-02|\n",
      "|TCGA-A7-A0D9-01A-31D-A060-02|\n",
      "|TCGA-A7-A0D9-10A-01D-A060-02|\n",
      "|TCGA-BH-A0W5-10A-01D-A106-02|\n",
      "|TCGA-AO-A0JJ-01A-11D-A060-02|\n",
      "|TCGA-BH-A0DK-10A-01D-A060-02|\n",
      "|TCGA-BH-A0GY-01A-11D-A060-02|\n",
      "|TCGA-B6-A0RI-10A-01D-A060-02|\n",
      "|TCGA-BH-A0HB-10A-01D-A060-02|\n",
      "|TCGA-B6-A0RI-01A-11D-A060-02|\n",
      "|TCGA-AO-A0JF-01A-11D-A060-02|\n",
      "|TCGA-BH-A0H6-01A-21D-A060-02|\n",
      "|TCGA-B6-A0X4-01A-11D-A106-02|\n",
      "|TCGA-AR-A0TU-10A-01D-A106-02|\n",
      "|TCGA-BH-A0HX-10A-02D-A060-02|\n",
      "+----------------------------+\n",
      "only showing top 20 rows\n",
      "\n"
     ]
    }
   ],
   "source": [
    "spark.sql(f\"SELECT DISTINCT Sample FROM {table_name}\").show(truncate=False)"
   ]
  },
  {
   "cell_type": "code",
   "execution_count": 70,
   "metadata": {},
   "outputs": [
    {
     "name": "stdout",
     "output_type": "stream",
     "text": [
      "+--------------------+----------+--------+---------+----------+-------------------+\n",
      "|              Sample|Chromosome|   Start|      End|Num_Probes|       Segment_Mean|\n",
      "+--------------------+----------+--------+---------+----------+-------------------+\n",
      "|TCGA-BH-A0W5-10A-...|         1|   10208|249240606|        NA|-0.0342829456904825|\n",
      "|TCGA-BH-A0W5-10A-...|         2|   10001|243189359|        NA|-0.0361339272866173|\n",
      "|TCGA-BH-A0W5-10A-...|         3|   60174|197962416|        NA|-0.0353001445469591|\n",
      "|TCGA-BH-A0W5-10A-...|         4|   68818|191014415|        NA|-0.0381610776778173|\n",
      "|TCGA-BH-A0W5-10A-...|         5|   11769|180905246|        NA| 0.0945120717312347|\n",
      "|TCGA-BH-A0W5-10A-...|         6|   63814|171050932|        NA|-0.0370055036510112|\n",
      "|TCGA-BH-A0W5-10A-...|         7|   10127|159128640|        NA| -0.036651266453263|\n",
      "|TCGA-BH-A0W5-10A-...|         8|   23379| 37177805|        NA| -0.296138511854961|\n",
      "|TCGA-BH-A0W5-10A-...|         8|37177806|146303846|        NA|  0.394414200177421|\n",
      "|TCGA-BH-A0W5-10A-...|         9|  587527|141153413|        NA|-0.0346172826149966|\n",
      "|TCGA-BH-A0W5-10A-...|        10|   61818|135524732|        NA|-0.0346369425108684|\n",
      "|TCGA-BH-A0W5-10A-...|        11|  195901|134946455|        NA|-0.0328419982401603|\n",
      "|TCGA-BH-A0W5-10A-...|        12|  188219|133841505|        NA|-0.0347341766158184|\n",
      "|TCGA-BH-A0W5-10A-...|        13|19020028|115109864|        NA| 0.0113061557004765|\n",
      "|TCGA-BH-A0W5-10A-...|        14|20424940|107289526|        NA|-0.0378868451832848|\n",
      "|TCGA-BH-A0W5-10A-...|        15|20000001|102521366|        NA|-0.0241216681004675|\n",
      "|TCGA-BH-A0W5-10A-...|        16|   60001| 35285758|        NA|   0.50100860888744|\n",
      "|TCGA-BH-A0W5-10A-...|        16|46499754| 90294729|        NA| -0.131450478937173|\n",
      "|TCGA-BH-A0W5-10A-...|        17|       1| 81195162|        NA|-0.0320031758392927|\n",
      "|TCGA-BH-A0W5-10A-...|        18|   10064| 78017233|        NA|-0.0384891054622891|\n",
      "+--------------------+----------+--------+---------+----------+-------------------+\n",
      "only showing top 20 rows\n",
      "\n"
     ]
    }
   ],
   "source": [
    "spark.sql(f\"SELECT * FROM {table_name} WHERE sample='TCGA-BH-A0W5-10A-01D-A106-02'\").show()"
   ]
  },
  {
   "cell_type": "markdown",
   "metadata": {},
   "source": [
    "Podaj liczbę wierszy dla każdej grupy oraz maksymlną wartość średniej segmentu dla chromosomow od 1 do 5"
   ]
  },
  {
   "cell_type": "code",
   "execution_count": 80,
   "metadata": {},
   "outputs": [
    {
     "name": "stdout",
     "output_type": "stream",
     "text": [
      "+----------------------------+--------+------------------+\n",
      "|sample                      |count(1)|max(Segment_Mean) |\n",
      "+----------------------------+--------+------------------+\n",
      "|TCGA-BH-A0H7-10A-01D-A060-02|116     |0.882987851355116 |\n",
      "|TCGA-A2-A0EU-10A-01D-A060-02|8       |0.42309157125509  |\n",
      "|TCGA-AO-A0JL-01A-11D-A060-02|127     |3.82790441644727  |\n",
      "|TCGA-AO-A0JF-10A-01D-A060-02|6       |0.289237261179585 |\n",
      "|TCGA-AR-A0TU-01A-31D-A106-02|71      |1.32969350720596  |\n",
      "|TCGA-BH-A0BM-01A-11D-A060-02|10      |0.398470909941123 |\n",
      "|TCGA-A7-A0D9-01A-31D-A060-02|5       |-0.196448961894486|\n",
      "|TCGA-A7-A0D9-10A-01D-A060-02|5       |-0.196448961894486|\n",
      "|TCGA-BH-A0W5-10A-01D-A106-02|5       |0.0945120717312347|\n",
      "|TCGA-AO-A0JJ-01A-11D-A060-02|6       |0.358494442304096 |\n",
      "|TCGA-BH-A0DK-10A-01D-A060-02|15      |0.394393774576986 |\n",
      "|TCGA-BH-A0GY-01A-11D-A060-02|31      |1.24033661769591  |\n",
      "|TCGA-B6-A0RI-10A-01D-A060-02|9       |0.481228280412584 |\n",
      "|TCGA-BH-A0HB-10A-01D-A060-02|66      |0.974774612914482 |\n",
      "|TCGA-B6-A0RI-01A-11D-A060-02|9       |0.481228280412584 |\n",
      "|TCGA-AO-A0JF-01A-11D-A060-02|6       |0.289237261179585 |\n",
      "|TCGA-BH-A0H6-01A-21D-A060-02|5       |-0.11210774199885 |\n",
      "|TCGA-B6-A0X4-01A-11D-A106-02|9       |0.45728104280559  |\n",
      "|TCGA-AR-A0TU-10A-01D-A106-02|71      |1.32969350720596  |\n",
      "|TCGA-BH-A0HX-10A-02D-A060-02|27      |0.799837433672524 |\n",
      "+----------------------------+--------+------------------+\n",
      "only showing top 20 rows\n",
      "\n"
     ]
    }
   ],
   "source": [
    "spark.sql(f\"SELECT sample, COUNT(*), MAX(Segment_Mean) FROM {table_name} WHERE Chromosome <= 5 GROUP BY Sample\").show(truncate=False)"
   ]
  },
  {
   "cell_type": "markdown",
   "metadata": {},
   "source": [
    "Zwroc chromosomy dla ktorych srednia wartosc segmentu jest wieksza niz 0.05 w zakresie pozycji startowych 100-10000"
   ]
  },
  {
   "cell_type": "code",
   "execution_count": 93,
   "metadata": {},
   "outputs": [
    {
     "name": "stdout",
     "output_type": "stream",
     "text": [
      "+----------+-------------------+\n",
      "|Chromosome|avg(segment_mean)  |\n",
      "+----------+-------------------+\n",
      "|12        |0.995365981884277  |\n",
      "|16        |0.12415591706179774|\n",
      "|20        |0.11056720549428493|\n",
      "|10        |0.12244174812163248|\n",
      "+----------+-------------------+\n",
      "\n"
     ]
    }
   ],
   "source": [
    "spark.sql(f\"SELECT Chromosome, MEAN(segment_mean) FROM {table_name} WHERE Start between 100 and 100000 GROUP BY Chromosome HAVING MEAN(segment_mean)>0.05\").show(truncate=False)"
   ]
  }
 ],
 "metadata": {
  "kernelspec": {
   "display_name": "seq-edu",
   "language": "python",
   "name": "seq-edu"
  },
  "language_info": {
   "codemirror_mode": {
    "name": "ipython",
    "version": 3
   },
   "file_extension": ".py",
   "mimetype": "text/x-python",
   "name": "python",
   "nbconvert_exporter": "python",
   "pygments_lexer": "ipython3",
   "version": "3.6.10"
  }
 },
 "nbformat": 4,
 "nbformat_minor": 2
}
