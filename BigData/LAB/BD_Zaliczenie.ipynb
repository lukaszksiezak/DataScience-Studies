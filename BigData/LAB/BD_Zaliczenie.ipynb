{
 "cells": [
  {
   "cell_type": "markdown",
   "metadata": {},
   "source": [
    "# Zaliczenie\n",
    "\n",
    "Pobierz dane z ankiety StackOverflow z roku 2018 \n",
    "\n",
    "https://drive.google.com/uc?export=download&id=1_9On2-nsBQIw3JiY43sWbrF8EjrqrR4U\n",
    "\n",
    "Zapisz je na systemie rozproszonym (HDFS) i w swojej bazie stwórz z nich tabelę.\n",
    "\n",
    "1. Ile przestrzeni zajmuje plik na HDFS? Ile ma partycji?\n",
    "2. Jakie są wymiary stworzonej tabeli? \n",
    "3. Wyznacz średni wiek w top 10 krajach pod wzgledem liczby respondentów i zaprezentuj wyniki w postaci wykresu słupkowego\n",
    "4. Wyznacz średnią wartość wynagrodzenia per kraj w roku 2018 i 2019. Zaprezentuj roznice na wykresie slupkowym dla 5 krajów o najwyższych srednich w 2019.\n",
    "\n",
    "\n"
   ]
  },
  {
   "cell_type": "code",
   "execution_count": 11,
   "metadata": {},
   "outputs": [],
   "source": [
    "import os \n",
    "user_name = os.environ.get('USER')\n",
    "\n",
    "import random\n",
    "port_name = random.randint(4000, 4999)\n",
    "port_name\n",
    "\n",
    "from pyspark.sql import SparkSession\n",
    "\n",
    "spark = SparkSession \\\n",
    ".builder \\\n",
    ".master('yarn-client') \\\n",
    ".config('spark.driver.memory', '1g') \\\n",
    ".config('spark.executor.memory', '1g') \\\n",
    ".config('spark.ui.port', port_name) \\\n",
    ".appName(f'zliczenie_{user_name}') \\\n",
    ".getOrCreate()\n"
   ]
  },
  {
   "cell_type": "code",
   "execution_count": 2,
   "metadata": {},
   "outputs": [],
   "source": [
    "from google_drive_downloader import GoogleDriveDownloader as gdd"
   ]
  },
  {
   "cell_type": "code",
   "execution_count": 3,
   "metadata": {},
   "outputs": [
    {
     "name": "stdout",
     "output_type": "stream",
     "text": [
      "Downloading 1_9On2-nsBQIw3JiY43sWbrF8EjrqrR4U into ./survey208.zip... Done.\n",
      "Unzipping...Done.\n"
     ]
    }
   ],
   "source": [
    "# https://drive.google.com/open?id=1QOmVDpd8hcVYqqUXDXf68UMDWQZP0wQV\n",
    "gdd.download_file_from_google_drive(file_id=\"1_9On2-nsBQIw3JiY43sWbrF8EjrqrR4U\", \n",
    "                                   dest_path=\"./survey208.zip\",\n",
    "                                   unzip=True)"
   ]
  },
  {
   "cell_type": "code",
   "execution_count": 4,
   "metadata": {},
   "outputs": [],
   "source": [
    "!hdfs dfs -mkdir -p hdfs:///user/${USER}/survey2018/data"
   ]
  },
  {
   "cell_type": "code",
   "execution_count": 6,
   "metadata": {},
   "outputs": [
    {
     "name": "stdout",
     "output_type": "stream",
     "text": [
      "brca.txt\t\t\t      so_survey_2019.pdf\r\n",
      "data\t\t\t\t      spark ML.ipynb\r\n",
      "Developer_Survey_Instrument_2018.pdf  StackOverflowSurvey.ipynb\r\n",
      "ds_lab.ipynb\t\t\t      survey208.zip\r\n",
      "__MACOSX\t\t\t      survey_results_public.csv\r\n",
      "my_env\t\t\t\t      survey_results_schema.csv\r\n",
      "README_2018.txt\t\t\t      survey.zip\r\n",
      "README_2019.txt\t\t\t      zal.ipynb\r\n"
     ]
    }
   ],
   "source": [
    "!ls"
   ]
  },
  {
   "cell_type": "code",
   "execution_count": 7,
   "metadata": {},
   "outputs": [],
   "source": [
    "!hdfs dfs -put -f survey_results_public.csv hdfs:///user/${USER}/survey2018/data"
   ]
  },
  {
   "cell_type": "code",
   "execution_count": 8,
   "metadata": {},
   "outputs": [
    {
     "name": "stdout",
     "output_type": "stream",
     "text": [
      "Found 1 items\r\n",
      "-rw-r--r--   2 lksiezak bdg-ds-stud  195595827 2020-01-26 10:25 hdfs:///user/lksiezak/survey2018/data/survey_results_public.csv\r\n"
     ]
    }
   ],
   "source": [
    "!hdfs dfs -ls hdfs:///user/${USER}/survey2018/data"
   ]
  },
  {
   "cell_type": "code",
   "execution_count": 9,
   "metadata": {},
   "outputs": [],
   "source": [
    "import pandas as pd\n",
    "import seaborn as sns\n",
    "import matplotlib.pyplot as plt"
   ]
  },
  {
   "cell_type": "code",
   "execution_count": 13,
   "metadata": {},
   "outputs": [],
   "source": [
    "path = f\"/user/{user_name}/survey2018/data/survey_results_public.csv\"\n",
    "table_name = \"survey2018\""
   ]
  },
  {
   "cell_type": "code",
   "execution_count": 14,
   "metadata": {},
   "outputs": [
    {
     "data": {
      "text/plain": [
       "DataFrame[]"
      ]
     },
     "execution_count": 14,
     "metadata": {},
     "output_type": "execute_result"
    }
   ],
   "source": [
    "spark.sql(f\"USE {user_name}\")"
   ]
  },
  {
   "cell_type": "code",
   "execution_count": 15,
   "metadata": {},
   "outputs": [
    {
     "data": {
      "text/plain": [
       "DataFrame[]"
      ]
     },
     "execution_count": 15,
     "metadata": {},
     "output_type": "execute_result"
    }
   ],
   "source": [
    "spark.sql(f\"CREATE TABLE IF NOT EXISTS {table_name} \\\n",
    "            using CSV \\\n",
    "            OPTIONS (HEADER=TRUE, INFERSCHEMA TRUE, NULLVALUE 'NA') \\\n",
    "            LOCATION '{path}'\")"
   ]
  },
  {
   "cell_type": "markdown",
   "metadata": {},
   "source": [
    "# 1. Ile przestrzeni zajmuje plik na HDFS? Ile ma partycji?\n",
    "\n",
    "Total size:\t195595827 B\n",
    "Przechowywany w dwóch kopiach (186.5 M  373.1 M  )\n",
    "W dwoch partycjach (Total blocks (validated):\t2 )"
   ]
  },
  {
   "cell_type": "code",
   "execution_count": 18,
   "metadata": {},
   "outputs": [
    {
     "name": "stdout",
     "output_type": "stream",
     "text": [
      "Connecting to namenode via http://cdh01.cl.ii.pw.edu.pl:50070/fsck?ugi=lksiezak&path=%2Fuser%2Flksiezak%2Fsurvey2018%2Fdata%2Fsurvey_results_public.csv\n",
      "FSCK started by lksiezak (auth:KERBEROS_SSL) from /192.168.157.200 for path /user/lksiezak/survey2018/data/survey_results_public.csv at Sun Jan 26 10:33:06 CET 2020\n",
      "\n",
      "Status: HEALTHY\n",
      " Number of data-nodes:\t4\n",
      " Number of racks:\t\t1\n",
      " Total dirs:\t\t\t0\n",
      " Total symlinks:\t\t0\n",
      "\n",
      "Replicated Blocks:\n",
      " Total size:\t195595827 B\n",
      " Total files:\t1\n",
      " Total blocks (validated):\t2 (avg. block size 97797913 B)\n",
      " Minimally replicated blocks:\t2 (100.0 %)\n",
      " Over-replicated blocks:\t0 (0.0 %)\n",
      " Under-replicated blocks:\t0 (0.0 %)\n",
      " Mis-replicated blocks:\t\t0 (0.0 %)\n",
      " Default replication factor:\t2\n",
      " Average block replication:\t2.0\n",
      " Missing blocks:\t\t0\n",
      " Corrupt blocks:\t\t0\n",
      " Missing replicas:\t\t0 (0.0 %)\n",
      "\n",
      "Erasure Coded Block Groups:\n",
      " Total size:\t0 B\n",
      " Total files:\t0\n",
      " Total block groups (validated):\t0\n",
      " Minimally erasure-coded block groups:\t0\n",
      " Over-erasure-coded block groups:\t0\n",
      " Under-erasure-coded block groups:\t0\n",
      " Unsatisfactory placement block groups:\t0\n",
      " Average block group size:\t0.0\n",
      " Missing block groups:\t\t0\n",
      " Corrupt block groups:\t\t0\n",
      " Missing internal blocks:\t0\n",
      "FSCK ended at Sun Jan 26 10:33:06 CET 2020 in 1 milliseconds\n",
      "\n",
      "\n",
      "The filesystem under path '/user/lksiezak/survey2018/data/survey_results_public.csv' is HEALTHY\n"
     ]
    }
   ],
   "source": [
    "!hdfs fsck hdfs:///user/lksiezak/survey2018/data/survey_results_public.csv"
   ]
  },
  {
   "cell_type": "code",
   "execution_count": 17,
   "metadata": {},
   "outputs": [
    {
     "name": "stdout",
     "output_type": "stream",
     "text": [
      "186.5 M  373.1 M  hdfs:///user/lksiezak/survey2018/data/survey_results_public.csv\r\n"
     ]
    }
   ],
   "source": [
    "!hdfs dfs -du -h hdfs:///user/lksiezak/survey2018/data/survey_results_public.csv"
   ]
  },
  {
   "cell_type": "markdown",
   "metadata": {},
   "source": [
    "# 2. Jakie sa wymiary tabeli\n",
    "\n",
    "129 x 98855"
   ]
  },
  {
   "cell_type": "code",
   "execution_count": 41,
   "metadata": {},
   "outputs": [
    {
     "data": {
      "text/plain": [
       "129"
      ]
     },
     "execution_count": 41,
     "metadata": {},
     "output_type": "execute_result"
    }
   ],
   "source": [
    "pandas_df =spark.sql(f\"DESCRIBE {table_name}\").toPandas() # show(200, truncate=False)\n",
    "pandas_df.shape[0]"
   ]
  },
  {
   "cell_type": "code",
   "execution_count": 31,
   "metadata": {},
   "outputs": [
    {
     "name": "stdout",
     "output_type": "stream",
     "text": [
      "+--------+\n",
      "|count(1)|\n",
      "+--------+\n",
      "|98855   |\n",
      "+--------+\n",
      "\n"
     ]
    }
   ],
   "source": [
    "spark.sql(f\"SELECT COUNT(*) FROM {table_name}\").show()"
   ]
  },
  {
   "cell_type": "markdown",
   "metadata": {},
   "source": [
    "# 3. Wyznacz średna pensje w top 10 krajach pod wzgledem liczby respondentów i zaprezentuj wyniki w postaci wykresu słupkowego"
   ]
  },
  {
   "cell_type": "code",
   "execution_count": 80,
   "metadata": {},
   "outputs": [
    {
     "data": {
      "text/html": [
       "<div>\n",
       "<style scoped>\n",
       "    .dataframe tbody tr th:only-of-type {\n",
       "        vertical-align: middle;\n",
       "    }\n",
       "\n",
       "    .dataframe tbody tr th {\n",
       "        vertical-align: top;\n",
       "    }\n",
       "\n",
       "    .dataframe thead th {\n",
       "        text-align: right;\n",
       "    }\n",
       "</style>\n",
       "<table border=\"1\" class=\"dataframe\">\n",
       "  <thead>\n",
       "    <tr style=\"text-align: right;\">\n",
       "      <th></th>\n",
       "      <th>Country</th>\n",
       "      <th>avgSal</th>\n",
       "      <th>noOfRespondents</th>\n",
       "    </tr>\n",
       "  </thead>\n",
       "  <tbody>\n",
       "    <tr>\n",
       "      <th>0</th>\n",
       "      <td>United States</td>\n",
       "      <td>154413.1285</td>\n",
       "      <td>20309</td>\n",
       "    </tr>\n",
       "    <tr>\n",
       "      <th>1</th>\n",
       "      <td>India</td>\n",
       "      <td>27694.1215</td>\n",
       "      <td>13721</td>\n",
       "    </tr>\n",
       "    <tr>\n",
       "      <th>2</th>\n",
       "      <td>Germany</td>\n",
       "      <td>91850.6112</td>\n",
       "      <td>6459</td>\n",
       "    </tr>\n",
       "    <tr>\n",
       "      <th>3</th>\n",
       "      <td>United Kingdom</td>\n",
       "      <td>128216.9309</td>\n",
       "      <td>6221</td>\n",
       "    </tr>\n",
       "    <tr>\n",
       "      <th>4</th>\n",
       "      <td>Canada</td>\n",
       "      <td>100894.3434</td>\n",
       "      <td>3393</td>\n",
       "    </tr>\n",
       "    <tr>\n",
       "      <th>5</th>\n",
       "      <td>Russian Federation</td>\n",
       "      <td>26312.2299</td>\n",
       "      <td>2869</td>\n",
       "    </tr>\n",
       "    <tr>\n",
       "      <th>6</th>\n",
       "      <td>France</td>\n",
       "      <td>89410.8998</td>\n",
       "      <td>2572</td>\n",
       "    </tr>\n",
       "    <tr>\n",
       "      <th>7</th>\n",
       "      <td>Brazil</td>\n",
       "      <td>57796.9635</td>\n",
       "      <td>2505</td>\n",
       "    </tr>\n",
       "    <tr>\n",
       "      <th>8</th>\n",
       "      <td>Poland</td>\n",
       "      <td>38472.7476</td>\n",
       "      <td>2122</td>\n",
       "    </tr>\n",
       "    <tr>\n",
       "      <th>9</th>\n",
       "      <td>Australia</td>\n",
       "      <td>126623.7203</td>\n",
       "      <td>2018</td>\n",
       "    </tr>\n",
       "  </tbody>\n",
       "</table>\n",
       "</div>"
      ],
      "text/plain": [
       "              Country       avgSal  noOfRespondents\n",
       "0       United States  154413.1285            20309\n",
       "1               India   27694.1215            13721\n",
       "2             Germany   91850.6112             6459\n",
       "3      United Kingdom  128216.9309             6221\n",
       "4              Canada  100894.3434             3393\n",
       "5  Russian Federation   26312.2299             2869\n",
       "6              France   89410.8998             2572\n",
       "7              Brazil   57796.9635             2505\n",
       "8              Poland   38472.7476             2122\n",
       "9           Australia  126623.7203             2018"
      ]
     },
     "execution_count": 80,
     "metadata": {},
     "output_type": "execute_result"
    }
   ],
   "source": [
    "avgSal = spark.sql(f\"SELECT Country, MEAN(ConvertedSalary) AS avgSal, COUNT(*) AS noOfRespondents\\\n",
    "            FROM {table_name}\\\n",
    "            GROUP BY Country\\\n",
    "            HAVING COUNT(*)\\\n",
    "            ORDER BY noOfRespondents DESC\\\n",
    "            LIMIT 10\").toPandas()\n",
    "avgSal"
   ]
  },
  {
   "cell_type": "code",
   "execution_count": 82,
   "metadata": {},
   "outputs": [
    {
     "data": {
      "text/plain": [
       "<matplotlib.axes._subplots.AxesSubplot at 0x7fa1fc5a5400>"
      ]
     },
     "execution_count": 82,
     "metadata": {},
     "output_type": "execute_result"
    },
    {
     "data": {
      "image/png": "[encoded data removed]",
      "text/plain": [
       "<Figure size 432x288 with 1 Axes>"
      ]
     },
     "metadata": {
      "needs_background": "light"
     },
     "output_type": "display_data"
    }
   ],
   "source": [
    "sns.barplot(y=\"Country\", x=\"avgSal\", data=avgSal.sort_values(\"avgSal\"))"
   ]
  },
  {
   "cell_type": "markdown",
   "metadata": {},
   "source": [
    "# Wyznacz średnią wartość wynagrodzenia per kraj w roku 2018 i 2019. Zaprezentuj roznice na wykresie slupkowym dla 5 krajów o najwyższych srednich w 2019"
   ]
  },
  {
   "cell_type": "code",
   "execution_count": 97,
   "metadata": {},
   "outputs": [
    {
     "data": {
      "text/html": [
       "<div>\n",
       "<style scoped>\n",
       "    .dataframe tbody tr th:only-of-type {\n",
       "        vertical-align: middle;\n",
       "    }\n",
       "\n",
       "    .dataframe tbody tr th {\n",
       "        vertical-align: top;\n",
       "    }\n",
       "\n",
       "    .dataframe thead th {\n",
       "        text-align: right;\n",
       "    }\n",
       "</style>\n",
       "<table border=\"1\" class=\"dataframe\">\n",
       "  <thead>\n",
       "    <tr style=\"text-align: right;\">\n",
       "      <th></th>\n",
       "      <th>Country</th>\n",
       "      <th>avgSal</th>\n",
       "    </tr>\n",
       "  </thead>\n",
       "  <tbody>\n",
       "    <tr>\n",
       "      <th>0</th>\n",
       "      <td>Andorra</td>\n",
       "      <td>525089.5000</td>\n",
       "    </tr>\n",
       "    <tr>\n",
       "      <th>1</th>\n",
       "      <td>Liechtenstein</td>\n",
       "      <td>284028.0000</td>\n",
       "    </tr>\n",
       "    <tr>\n",
       "      <th>2</th>\n",
       "      <td>Venezuela, Bolivarian Republic of...</td>\n",
       "      <td>241823.6250</td>\n",
       "    </tr>\n",
       "    <tr>\n",
       "      <th>3</th>\n",
       "      <td>Ireland</td>\n",
       "      <td>186313.2167</td>\n",
       "    </tr>\n",
       "    <tr>\n",
       "      <th>4</th>\n",
       "      <td>Botswana</td>\n",
       "      <td>170000.0000</td>\n",
       "    </tr>\n",
       "    <tr>\n",
       "      <th>...</th>\n",
       "      <td>...</td>\n",
       "      <td>...</td>\n",
       "    </tr>\n",
       "    <tr>\n",
       "      <th>152</th>\n",
       "      <td>Eritrea</td>\n",
       "      <td>3000.0000</td>\n",
       "    </tr>\n",
       "    <tr>\n",
       "      <th>153</th>\n",
       "      <td>Swaziland</td>\n",
       "      <td>2476.0000</td>\n",
       "    </tr>\n",
       "    <tr>\n",
       "      <th>154</th>\n",
       "      <td>Zambia</td>\n",
       "      <td>1824.0000</td>\n",
       "    </tr>\n",
       "    <tr>\n",
       "      <th>155</th>\n",
       "      <td>Dominica</td>\n",
       "      <td>1000.0000</td>\n",
       "    </tr>\n",
       "    <tr>\n",
       "      <th>156</th>\n",
       "      <td>Monaco</td>\n",
       "      <td>0.0000</td>\n",
       "    </tr>\n",
       "  </tbody>\n",
       "</table>\n",
       "<p>157 rows × 2 columns</p>\n",
       "</div>"
      ],
      "text/plain": [
       "                                  Country       avgSal\n",
       "0                                 Andorra  525089.5000\n",
       "1                           Liechtenstein  284028.0000\n",
       "2    Venezuela, Bolivarian Republic of...  241823.6250\n",
       "3                                 Ireland  186313.2167\n",
       "4                                Botswana  170000.0000\n",
       "..                                    ...          ...\n",
       "152                               Eritrea    3000.0000\n",
       "153                             Swaziland    2476.0000\n",
       "154                                Zambia    1824.0000\n",
       "155                              Dominica    1000.0000\n",
       "156                                Monaco       0.0000\n",
       "\n",
       "[157 rows x 2 columns]"
      ]
     },
     "execution_count": 97,
     "metadata": {},
     "output_type": "execute_result"
    }
   ],
   "source": [
    "table_name = \"survey2018\"\n",
    "avg_per_country_2018 = spark.sql(f\"SELECT Country, MEAN(ConvertedSalary) AS avgSal\\\n",
    "                                    FROM {table_name}\\\n",
    "                                    WHERE Country IS NOT NULL AND ConvertedSalary IS NOT NULL \\\n",
    "                                    GROUP BY Country\\\n",
    "                                    ORDER BY avgSal DESC\").toPandas()\n",
    "avg_per_country_2018"
   ]
  },
  {
   "cell_type": "code",
   "execution_count": 98,
   "metadata": {},
   "outputs": [
    {
     "data": {
      "text/html": [
       "<div>\n",
       "<style scoped>\n",
       "    .dataframe tbody tr th:only-of-type {\n",
       "        vertical-align: middle;\n",
       "    }\n",
       "\n",
       "    .dataframe tbody tr th {\n",
       "        vertical-align: top;\n",
       "    }\n",
       "\n",
       "    .dataframe thead th {\n",
       "        text-align: right;\n",
       "    }\n",
       "</style>\n",
       "<table border=\"1\" class=\"dataframe\">\n",
       "  <thead>\n",
       "    <tr style=\"text-align: right;\">\n",
       "      <th></th>\n",
       "      <th>Country</th>\n",
       "      <th>avgSal</th>\n",
       "    </tr>\n",
       "  </thead>\n",
       "  <tbody>\n",
       "    <tr>\n",
       "      <th>0</th>\n",
       "      <td>Liechtenstein</td>\n",
       "      <td>811188.0000</td>\n",
       "    </tr>\n",
       "    <tr>\n",
       "      <th>1</th>\n",
       "      <td>San Marino</td>\n",
       "      <td>301788.0000</td>\n",
       "    </tr>\n",
       "    <tr>\n",
       "      <th>2</th>\n",
       "      <td>Ireland</td>\n",
       "      <td>250342.2391</td>\n",
       "    </tr>\n",
       "    <tr>\n",
       "      <th>3</th>\n",
       "      <td>United States</td>\n",
       "      <td>249546.2546</td>\n",
       "    </tr>\n",
       "    <tr>\n",
       "      <th>4</th>\n",
       "      <td>Swaziland</td>\n",
       "      <td>242607.5000</td>\n",
       "    </tr>\n",
       "  </tbody>\n",
       "</table>\n",
       "</div>"
      ],
      "text/plain": [
       "         Country       avgSal\n",
       "0  Liechtenstein  811188.0000\n",
       "1     San Marino  301788.0000\n",
       "2        Ireland  250342.2391\n",
       "3  United States  249546.2546\n",
       "4      Swaziland  242607.5000"
      ]
     },
     "execution_count": 98,
     "metadata": {},
     "output_type": "execute_result"
    }
   ],
   "source": [
    "table_name = \"survey\"\n",
    "avg_per_country_2019 = spark.sql(f\"SELECT Country, MEAN(ConvertedComp) AS avgSal\\\n",
    "                                    FROM {table_name}\\\n",
    "                                    WHERE Country IS NOT NULL AND ConvertedComp IS NOT NULL \\\n",
    "                                    GROUP BY Country\\\n",
    "                                    ORDER BY avgSal DESC\\\n",
    "                                    LIMIT 5\").toPandas()\n",
    "avg_per_country_2019"
   ]
  },
  {
   "cell_type": "code",
   "execution_count": 121,
   "metadata": {},
   "outputs": [
    {
     "data": {
      "text/html": [
       "<div>\n",
       "<style scoped>\n",
       "    .dataframe tbody tr th:only-of-type {\n",
       "        vertical-align: middle;\n",
       "    }\n",
       "\n",
       "    .dataframe tbody tr th {\n",
       "        vertical-align: top;\n",
       "    }\n",
       "\n",
       "    .dataframe thead th {\n",
       "        text-align: right;\n",
       "    }\n",
       "</style>\n",
       "<table border=\"1\" class=\"dataframe\">\n",
       "  <thead>\n",
       "    <tr style=\"text-align: right;\">\n",
       "      <th></th>\n",
       "      <th>Country</th>\n",
       "      <th>avgSal_x</th>\n",
       "      <th>avgSal_y</th>\n",
       "    </tr>\n",
       "  </thead>\n",
       "  <tbody>\n",
       "    <tr>\n",
       "      <th>0</th>\n",
       "      <td>Liechtenstein</td>\n",
       "      <td>811188.0000</td>\n",
       "      <td>284028.0000</td>\n",
       "    </tr>\n",
       "    <tr>\n",
       "      <th>1</th>\n",
       "      <td>Ireland</td>\n",
       "      <td>250342.2391</td>\n",
       "      <td>186313.2167</td>\n",
       "    </tr>\n",
       "    <tr>\n",
       "      <th>2</th>\n",
       "      <td>United States</td>\n",
       "      <td>249546.2546</td>\n",
       "      <td>154413.1285</td>\n",
       "    </tr>\n",
       "    <tr>\n",
       "      <th>3</th>\n",
       "      <td>Swaziland</td>\n",
       "      <td>242607.5000</td>\n",
       "      <td>2476.0000</td>\n",
       "    </tr>\n",
       "  </tbody>\n",
       "</table>\n",
       "</div>"
      ],
      "text/plain": [
       "         Country     avgSal_x     avgSal_y\n",
       "0  Liechtenstein  811188.0000  284028.0000\n",
       "1        Ireland  250342.2391  186313.2167\n",
       "2  United States  249546.2546  154413.1285\n",
       "3      Swaziland  242607.5000    2476.0000"
      ]
     },
     "execution_count": 121,
     "metadata": {},
     "output_type": "execute_result"
    }
   ],
   "source": [
    "avg_per_country_2018\n",
    "avg_per_country_2019\n",
    "\n",
    "result = pd.merge(avg_per_country_2019,avg_per_country_2018,\n",
    "                 on='Country', \n",
    "                 how='inner')\n",
    "\n",
    "result \n",
    "#result.avgSal_x-result.avgSal_y"
   ]
  },
  {
   "cell_type": "code",
   "execution_count": 122,
   "metadata": {},
   "outputs": [
    {
     "data": {
      "text/plain": [
       "<matplotlib.axes._subplots.AxesSubplot at 0x7fa1a3b5c358>"
      ]
     },
     "execution_count": 122,
     "metadata": {},
     "output_type": "execute_result"
    },
    {
     "data": {
      "image/png": "[encoded data removed]",
      "text/plain": [
       "<Figure size 432x288 with 1 Axes>"
      ]
     },
     "metadata": {
      "needs_background": "light"
     },
     "output_type": "display_data"
    }
   ],
   "source": [
    "sns.barplot(y=\"Country\", x=result.avgSal_x-result.avgSal_y, data=result)\n"
   ]
  }
 ],
 "metadata": {
  "kernelspec": {
   "display_name": "ds_kernel",
   "language": "python",
   "name": "ds_kernel"
  },
  "language_info": {
   "codemirror_mode": {
    "name": "ipython",
    "version": 3
   },
   "file_extension": ".py",
   "mimetype": "text/x-python",
   "name": "python",
   "nbconvert_exporter": "python",
   "pygments_lexer": "ipython3",
   "version": "3.6.10"
  },
  "notebook_test": {
   "keytab_path": "/data/work/home/ds-lab-testuser1/ds-lab-testuser1.keytab",
   "user": "ds-lab-testuser1"
  }
 },
 "nbformat": 4,
 "nbformat_minor": 2
}
